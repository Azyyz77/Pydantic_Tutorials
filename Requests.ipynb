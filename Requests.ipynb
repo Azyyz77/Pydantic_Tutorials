{
  "nbformat": 4,
  "nbformat_minor": 0,
  "metadata": {
    "colab": {
      "provenance": [],
      "authorship_tag": "ABX9TyOEu54N5vUObDr80YwTGDug",
      "include_colab_link": true
    },
    "kernelspec": {
      "name": "python3",
      "display_name": "Python 3"
    },
    "language_info": {
      "name": "python"
    }
  },
  "cells": [
    {
      "cell_type": "markdown",
      "metadata": {
        "id": "view-in-github",
        "colab_type": "text"
      },
      "source": [
        "<a href=\"https://colab.research.google.com/github/Azyyz77/Pydantic_Tutorials/blob/main/Requests.ipynb\" target=\"_parent\"><img src=\"https://colab.research.google.com/assets/colab-badge.svg\" alt=\"Open In Colab\"/></a>"
      ]
    },
    {
      "cell_type": "code",
      "execution_count": 1,
      "metadata": {
        "colab": {
          "base_uri": "https://localhost:8080/"
        },
        "id": "nrx10WYAQ7jW",
        "outputId": "b9c697da-b39d-4757-d22a-86c5d2465d04"
      },
      "outputs": [
        {
          "output_type": "stream",
          "name": "stdout",
          "text": [
            "Requirement already satisfied: requests in /usr/local/lib/python3.11/dist-packages (2.32.3)\n",
            "Requirement already satisfied: charset-normalizer<4,>=2 in /usr/local/lib/python3.11/dist-packages (from requests) (3.4.1)\n",
            "Requirement already satisfied: idna<4,>=2.5 in /usr/local/lib/python3.11/dist-packages (from requests) (3.10)\n",
            "Requirement already satisfied: urllib3<3,>=1.21.1 in /usr/local/lib/python3.11/dist-packages (from requests) (2.3.0)\n",
            "Requirement already satisfied: certifi>=2017.4.17 in /usr/local/lib/python3.11/dist-packages (from requests) (2025.1.31)\n"
          ]
        }
      ],
      "source": [
        "pip install requests"
      ]
    },
    {
      "cell_type": "markdown",
      "source": [
        "installing of requests Python module"
      ],
      "metadata": {
        "id": "Zz4e1KsCRIEf"
      }
    },
    {
      "cell_type": "code",
      "source": [
        "import requests\n",
        "\n",
        "url = \"https://www.example.com\"\n",
        "response = requests.get(url)"
      ],
      "metadata": {
        "id": "wM8z6exBRSm_"
      },
      "execution_count": 2,
      "outputs": []
    },
    {
      "cell_type": "markdown",
      "source": [
        "make a simple GET request to a website"
      ],
      "metadata": {
        "id": "S2SlbjrORXPP"
      }
    },
    {
      "cell_type": "code",
      "source": [
        "# it will show the HTTP status code\n",
        "print(response)"
      ],
      "metadata": {
        "colab": {
          "base_uri": "https://localhost:8080/"
        },
        "id": "GW5ngcxhRaxH",
        "outputId": "37e9b2f2-9e9e-45ce-c240-7bda4a3a5e12"
      },
      "execution_count": 3,
      "outputs": [
        {
          "output_type": "stream",
          "name": "stdout",
          "text": [
            "<Response [200]>\n"
          ]
        }
      ]
    },
    {
      "cell_type": "code",
      "source": [
        "print(response.status_code)"
      ],
      "metadata": {
        "colab": {
          "base_uri": "https://localhost:8080/"
        },
        "id": "XWmlSgIhRd1P",
        "outputId": "d9638c33-c6e1-44b4-8b15-8edea2559114"
      },
      "execution_count": 4,
      "outputs": [
        {
          "output_type": "stream",
          "name": "stdout",
          "text": [
            "200\n"
          ]
        }
      ]
    },
    {
      "cell_type": "markdown",
      "source": [
        "get the status code attribute of the response object"
      ],
      "metadata": {
        "id": "WFlAn08zRht_"
      }
    },
    {
      "cell_type": "code",
      "source": [
        "import requests\n",
        "\n",
        "response = requests.get(\"https://www.example.com\")\n",
        "print(repsonse.content)"
      ],
      "metadata": {
        "colab": {
          "base_uri": "https://localhost:8080/",
          "height": 176
        },
        "id": "GvsrsOU-RieP",
        "outputId": "d5ed4369-a4c2-4d0d-e009-f084720009ff"
      },
      "execution_count": 5,
      "outputs": [
        {
          "output_type": "error",
          "ename": "NameError",
          "evalue": "name 'repsonse' is not defined",
          "traceback": [
            "\u001b[0;31m---------------------------------------------------------------------------\u001b[0m",
            "\u001b[0;31mNameError\u001b[0m                                 Traceback (most recent call last)",
            "\u001b[0;32m<ipython-input-5-e75114b14437>\u001b[0m in \u001b[0;36m<cell line: 0>\u001b[0;34m()\u001b[0m\n\u001b[1;32m      2\u001b[0m \u001b[0;34m\u001b[0m\u001b[0m\n\u001b[1;32m      3\u001b[0m \u001b[0mresponse\u001b[0m \u001b[0;34m=\u001b[0m \u001b[0mrequests\u001b[0m\u001b[0;34m.\u001b[0m\u001b[0mget\u001b[0m\u001b[0;34m(\u001b[0m\u001b[0;34m\"https://www.example.com\"\u001b[0m\u001b[0;34m)\u001b[0m\u001b[0;34m\u001b[0m\u001b[0;34m\u001b[0m\u001b[0m\n\u001b[0;32m----> 4\u001b[0;31m \u001b[0mprint\u001b[0m\u001b[0;34m(\u001b[0m\u001b[0mrepsonse\u001b[0m\u001b[0;34m.\u001b[0m\u001b[0mcontent\u001b[0m\u001b[0;34m)\u001b[0m\u001b[0;34m\u001b[0m\u001b[0;34m\u001b[0m\u001b[0m\n\u001b[0m",
            "\u001b[0;31mNameError\u001b[0m: name 'repsonse' is not defined"
          ]
        }
      ]
    },
    {
      "cell_type": "markdown",
      "source": [
        "The error message NameError: name 'repsonse' is not defined indicates that the variable repsonse was not defined before being used. It's likely a simple typo in the variable name where repsonse was used instead of response. This typo prevents the code from finding the correct variable containing the server's response, thus throwing a NameError."
      ],
      "metadata": {
        "id": "lavxyXkWRpiP"
      }
    },
    {
      "cell_type": "code",
      "source": [
        "import requests\n",
        "\n",
        "response = requests.get(\"https://www.example.com\")\n",
        "print(response.content) # Changed 'repsonse' to 'response'"
      ],
      "metadata": {
        "colab": {
          "base_uri": "https://localhost:8080/"
        },
        "id": "TbDtz3wPRs9P",
        "outputId": "62760df8-eacf-49dd-9880-a902d6ee9ebf"
      },
      "execution_count": 6,
      "outputs": [
        {
          "output_type": "stream",
          "name": "stdout",
          "text": [
            "b'<!doctype html>\\n<html>\\n<head>\\n    <title>Example Domain</title>\\n\\n    <meta charset=\"utf-8\" />\\n    <meta http-equiv=\"Content-type\" content=\"text/html; charset=utf-8\" />\\n    <meta name=\"viewport\" content=\"width=device-width, initial-scale=1\" />\\n    <style type=\"text/css\">\\n    body {\\n        background-color: #f0f0f2;\\n        margin: 0;\\n        padding: 0;\\n        font-family: -apple-system, system-ui, BlinkMacSystemFont, \"Segoe UI\", \"Open Sans\", \"Helvetica Neue\", Helvetica, Arial, sans-serif;\\n        \\n    }\\n    div {\\n        width: 600px;\\n        margin: 5em auto;\\n        padding: 2em;\\n        background-color: #fdfdff;\\n        border-radius: 0.5em;\\n        box-shadow: 2px 3px 7px 2px rgba(0,0,0,0.02);\\n    }\\n    a:link, a:visited {\\n        color: #38488f;\\n        text-decoration: none;\\n    }\\n    @media (max-width: 700px) {\\n        div {\\n            margin: 0 auto;\\n            width: auto;\\n        }\\n    }\\n    </style>    \\n</head>\\n\\n<body>\\n<div>\\n    <h1>Example Domain</h1>\\n    <p>This domain is for use in illustrative examples in documents. You may use this\\n    domain in literature without prior coordination or asking for permission.</p>\\n    <p><a href=\"https://www.iana.org/domains/example\">More information...</a></p>\\n</div>\\n</body>\\n</html>\\n'\n"
          ]
        }
      ]
    },
    {
      "cell_type": "markdown",
      "source": [
        "the changes"
      ],
      "metadata": {
        "id": "d2mT79r-Rvl4"
      }
    },
    {
      "cell_type": "code",
      "source": [
        "data = {\"name\": \"Salah\", \"message\": \"Hello!\"}\n",
        "url = \"https://httpbin.org/post\"\n",
        "\n",
        "response = requests.post(url, json=data)"
      ],
      "metadata": {
        "id": "k5hVJFIsRzQu"
      },
      "execution_count": 7,
      "outputs": []
    },
    {
      "cell_type": "markdown",
      "source": [
        "POST Request"
      ],
      "metadata": {
        "id": "riDsI8DNR18X"
      }
    },
    {
      "cell_type": "code",
      "source": [
        "response_data = response.json()\n",
        "# Shows the data as a dictionary\n",
        "print(response_data)"
      ],
      "metadata": {
        "colab": {
          "base_uri": "https://localhost:8080/"
        },
        "id": "avzml-qPR4dn",
        "outputId": "e033c221-ff53-456c-8476-64180fb72e4a"
      },
      "execution_count": 8,
      "outputs": [
        {
          "output_type": "stream",
          "name": "stdout",
          "text": [
            "{'args': {}, 'data': '{\"name\": \"Salah\", \"message\": \"Hello!\"}', 'files': {}, 'form': {}, 'headers': {'Accept': '*/*', 'Accept-Encoding': 'gzip, deflate, zstd', 'Content-Length': '38', 'Content-Type': 'application/json', 'Host': 'httpbin.org', 'User-Agent': 'python-requests/2.32.3', 'X-Amzn-Trace-Id': 'Root=1-6806ba2b-419f796a6d159724618c9471'}, 'json': {'message': 'Hello!', 'name': 'Salah'}, 'origin': '35.190.151.186', 'url': 'https://httpbin.org/post'}\n"
          ]
        }
      ]
    },
    {
      "cell_type": "markdown",
      "source": [
        "view the JSON response data"
      ],
      "metadata": {
        "id": "4mAI9y5SR8Rf"
      }
    },
    {
      "cell_type": "code",
      "source": [
        "import requests\n",
        "\n",
        "# here we use an endpoint that always gives a 404 status error\n",
        "response = requests.get(\"https://httpbin.org/status/404\")\n",
        "# if status code is not 200 (successful response), then show error message\n",
        "if response.status_code != 200:\n",
        "    print(f\"HTTP Error: {response.status_code}\")"
      ],
      "metadata": {
        "colab": {
          "base_uri": "https://localhost:8080/"
        },
        "id": "EoYIpLjfR-c_",
        "outputId": "89c4486f-8298-4cd2-b7cb-ad0e47654c74"
      },
      "execution_count": 9,
      "outputs": [
        {
          "output_type": "stream",
          "name": "stdout",
          "text": [
            "HTTP Error: 404\n"
          ]
        }
      ]
    },
    {
      "cell_type": "markdown",
      "source": [
        "check for error codes using the status code : It’s important to handle errors properly so that your app can figure out what to do next."
      ],
      "metadata": {
        "id": "mQJTxbFUSALv"
      }
    },
    {
      "cell_type": "code",
      "source": [
        "url = \"https://httpbin.org/delay/10\"\n",
        "\n",
        "try:\n",
        "    response = requests.get(url, timeout=5)\n",
        "except requests.exceptions.Timeout as err:\n",
        "    print(err)"
      ],
      "metadata": {
        "colab": {
          "base_uri": "https://localhost:8080/"
        },
        "id": "srUONbMRSE1v",
        "outputId": "da39436c-74b1-4604-bf63-2df4ffc47d44"
      },
      "execution_count": 10,
      "outputs": [
        {
          "output_type": "stream",
          "name": "stdout",
          "text": [
            "HTTPSConnectionPool(host='httpbin.org', port=443): Read timed out. (read timeout=5)\n"
          ]
        }
      ]
    },
    {
      "cell_type": "markdown",
      "source": [
        "Setting a Timeout :\n",
        "A timeout will force a request to fail if it doesn’t respond after a number of seconds"
      ],
      "metadata": {
        "id": "X8iGNF18SJxX"
      }
    },
    {
      "cell_type": "code",
      "source": [
        "auth_token = \"XXXXXXXX\"\n",
        "\n",
        "# here we set the authorization header with the 'bearer token' for authentication purposes.\n",
        "headers = {\n",
        "    \"Authorization\": f\"Bearer {auth_token}\"\n",
        "}\n",
        "\n",
        "url = \"https://httpbin.org/headers\"\n",
        "response = requests.get(url, headers=headers)\n",
        "print(response.json())"
      ],
      "metadata": {
        "colab": {
          "base_uri": "https://localhost:8080/"
        },
        "id": "fa-xuBH_SMzJ",
        "outputId": "b7bc2735-6005-494f-90a3-493ec633a673"
      },
      "execution_count": 11,
      "outputs": [
        {
          "output_type": "stream",
          "name": "stdout",
          "text": [
            "{'headers': {'Accept': '*/*', 'Accept-Encoding': 'gzip, deflate, zstd', 'Authorization': 'Bearer XXXXXXXX', 'Host': 'httpbin.org', 'User-Agent': 'python-requests/2.32.3', 'X-Amzn-Trace-Id': 'Root=1-6806bad1-5351b7e415352f1b662b4e3d'}}\n"
          ]
        }
      ]
    },
    {
      "cell_type": "markdown",
      "source": [
        "HTTP Request Headers :\n",
        "Setting headers is typically used for authentication or indicating what type of data will be send or expected to receive."
      ],
      "metadata": {
        "id": "lw4XVioRShIU"
      }
    },
    {
      "cell_type": "code",
      "source": [
        "import requests\n",
        "\n",
        "url = \"https://www.example.com\"\n",
        "# this will get all the HTML, javascript, css code\n",
        "response = requests.get(url)"
      ],
      "metadata": {
        "id": "I1WSGeDlSvNH"
      },
      "execution_count": 12,
      "outputs": []
    },
    {
      "cell_type": "markdown",
      "source": [
        "Web Scraping with BeautifulSoup\n"
      ],
      "metadata": {
        "id": "Pi09vRvLSxcv"
      }
    },
    {
      "cell_type": "code",
      "source": [
        "pip install beautifulsoup4"
      ],
      "metadata": {
        "colab": {
          "base_uri": "https://localhost:8080/"
        },
        "id": "CwpBBvktS4NP",
        "outputId": "c789a4d6-dfe2-44bc-8801-03fba6123131"
      },
      "execution_count": 13,
      "outputs": [
        {
          "output_type": "stream",
          "name": "stdout",
          "text": [
            "Requirement already satisfied: beautifulsoup4 in /usr/local/lib/python3.11/dist-packages (4.13.4)\n",
            "Requirement already satisfied: soupsieve>1.2 in /usr/local/lib/python3.11/dist-packages (from beautifulsoup4) (2.6)\n",
            "Requirement already satisfied: typing-extensions>=4.0.0 in /usr/local/lib/python3.11/dist-packages (from beautifulsoup4) (4.13.2)\n"
          ]
        }
      ]
    },
    {
      "cell_type": "markdown",
      "source": [
        "installing beautifulsoup4"
      ],
      "metadata": {
        "id": "pfNlAA9uS6DW"
      }
    },
    {
      "cell_type": "code",
      "source": [
        "import requests\n",
        "from bs4 import BeautifulSoup\n",
        "\n",
        "url = \"https://www.example.com\"\n",
        "response = requests.get(url)\n",
        "soup = BeautifulSoup(response.content, \"html.parser\")"
      ],
      "metadata": {
        "id": "eber2zwuS_wH"
      },
      "execution_count": 14,
      "outputs": []
    },
    {
      "cell_type": "code",
      "source": [
        "title = soup.title.text\n",
        "content = soup.find(\"p\").text\n",
        "links = [a[\"href\"] for a in soup.find_all(\"a\")]\n",
        "\n",
        "print(title, content, links)"
      ],
      "metadata": {
        "colab": {
          "base_uri": "https://localhost:8080/"
        },
        "id": "Kv-Cy3PuTEnf",
        "outputId": "e3195864-b39e-44a9-bf54-239292bb9b7b"
      },
      "execution_count": 15,
      "outputs": [
        {
          "output_type": "stream",
          "name": "stdout",
          "text": [
            "Example Domain This domain is for use in illustrative examples in documents. You may use this\n",
            "    domain in literature without prior coordination or asking for permission. ['https://www.iana.org/domains/example']\n"
          ]
        }
      ]
    },
    {
      "cell_type": "code",
      "source": [
        "import urllib.request\n",
        "import urllib.request\n",
        "import urllib.parse\n",
        "\n",
        "data = urllib.parse.urlencode({\"key\": \"value\"}).encode(\"utf-8\")\n",
        "req = urllib.request.Request(\"https://www.example.com\", data=data, method=\"POST\")\n",
        "with urllib.request.urlopen(req) as response:\n",
        "    html = response.read().decode(\"utf-8\")\n",
        "print(html)\n",
        "    html = response.read().decode(\"utf-8\")\n",
        "print(html)"
      ],
      "metadata": {
        "colab": {
          "base_uri": "https://localhost:8080/",
          "height": 106
        },
        "id": "9S3zabG2TIz_",
        "outputId": "382c9a1b-c3fd-4daf-c3af-1e70eb25a0c2"
      },
      "execution_count": 17,
      "outputs": [
        {
          "output_type": "error",
          "ename": "IndentationError",
          "evalue": "unexpected indent (<ipython-input-17-a06b1a4da983>, line 10)",
          "traceback": [
            "\u001b[0;36m  File \u001b[0;32m\"<ipython-input-17-a06b1a4da983>\"\u001b[0;36m, line \u001b[0;32m10\u001b[0m\n\u001b[0;31m    html = response.read().decode(\"utf-8\")\u001b[0m\n\u001b[0m    ^\u001b[0m\n\u001b[0;31mIndentationError\u001b[0m\u001b[0;31m:\u001b[0m unexpected indent\n"
          ]
        }
      ]
    },
    {
      "cell_type": "markdown",
      "source": [
        "fix the error"
      ],
      "metadata": {
        "id": "kkFy7-NHTR-3"
      }
    },
    {
      "cell_type": "code",
      "source": [
        "import urllib.request\n",
        "import urllib.request\n",
        "import urllib.parse\n",
        "\n",
        "data = urllib.parse.urlencode({\"key\": \"value\"}).encode(\"utf-8\")\n",
        "# Change the method to \"GET\" if the server doesn't accept \"POST\"\n",
        "req = urllib.request.Request(\"https://www.example.com\", data=data, method=\"GET\")\n",
        "with urllib.request.urlopen(req) as response:\n",
        "    html = response.read().decode(\"utf-8\")\n",
        "    print(html)"
      ],
      "metadata": {
        "colab": {
          "base_uri": "https://localhost:8080/"
        },
        "id": "0Jx6MPNhTWRH",
        "outputId": "4e68a1ac-f7c8-4ac4-f4f1-678acf695861"
      },
      "execution_count": 19,
      "outputs": [
        {
          "output_type": "stream",
          "name": "stdout",
          "text": [
            "<!doctype html>\n",
            "<html>\n",
            "<head>\n",
            "    <title>Example Domain</title>\n",
            "\n",
            "    <meta charset=\"utf-8\" />\n",
            "    <meta http-equiv=\"Content-type\" content=\"text/html; charset=utf-8\" />\n",
            "    <meta name=\"viewport\" content=\"width=device-width, initial-scale=1\" />\n",
            "    <style type=\"text/css\">\n",
            "    body {\n",
            "        background-color: #f0f0f2;\n",
            "        margin: 0;\n",
            "        padding: 0;\n",
            "        font-family: -apple-system, system-ui, BlinkMacSystemFont, \"Segoe UI\", \"Open Sans\", \"Helvetica Neue\", Helvetica, Arial, sans-serif;\n",
            "        \n",
            "    }\n",
            "    div {\n",
            "        width: 600px;\n",
            "        margin: 5em auto;\n",
            "        padding: 2em;\n",
            "        background-color: #fdfdff;\n",
            "        border-radius: 0.5em;\n",
            "        box-shadow: 2px 3px 7px 2px rgba(0,0,0,0.02);\n",
            "    }\n",
            "    a:link, a:visited {\n",
            "        color: #38488f;\n",
            "        text-decoration: none;\n",
            "    }\n",
            "    @media (max-width: 700px) {\n",
            "        div {\n",
            "            margin: 0 auto;\n",
            "            width: auto;\n",
            "        }\n",
            "    }\n",
            "    </style>    \n",
            "</head>\n",
            "\n",
            "<body>\n",
            "<div>\n",
            "    <h1>Example Domain</h1>\n",
            "    <p>This domain is for use in illustrative examples in documents. You may use this\n",
            "    domain in literature without prior coordination or asking for permission.</p>\n",
            "    <p><a href=\"https://www.iana.org/domains/example\">More information...</a></p>\n",
            "</div>\n",
            "</body>\n",
            "</html>\n",
            "\n"
          ]
        }
      ]
    },
    {
      "cell_type": "markdown",
      "source": [
        "Requests vs urllib"
      ],
      "metadata": {
        "id": "fKzD_-LtTfVG"
      }
    }
  ]
}