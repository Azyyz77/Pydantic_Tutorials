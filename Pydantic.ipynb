{
  "nbformat": 4,
  "nbformat_minor": 0,
  "metadata": {
    "colab": {
      "provenance": [],
      "authorship_tag": "ABX9TyOtE77R6W0QvpYzNssHjvNt",
      "include_colab_link": true
    },
    "kernelspec": {
      "name": "python3",
      "display_name": "Python 3"
    },
    "language_info": {
      "name": "python"
    }
  },
  "cells": [
    {
      "cell_type": "markdown",
      "metadata": {
        "id": "view-in-github",
        "colab_type": "text"
      },
      "source": [
        "<a href=\"https://colab.research.google.com/github/Azyyz77/Pydantic_Tutorials/blob/main/Pydantic.ipynb\" target=\"_parent\"><img src=\"https://colab.research.google.com/assets/colab-badge.svg\" alt=\"Open In Colab\"/></a>"
      ]
    },
    {
      "cell_type": "code",
      "source": [
        "#Python\n",
        "x = 10\n",
        "\n",
        "# Java\n",
        "int x = 10;"
      ],
      "metadata": {
        "colab": {
          "base_uri": "https://localhost:8080/",
          "height": 106
        },
        "id": "fs0JZrNlxIrC",
        "outputId": "67d72d86-2e5f-44f7-9776-5b5a1ecd46a6"
      },
      "execution_count": null,
      "outputs": [
        {
          "output_type": "error",
          "ename": "SyntaxError",
          "evalue": "invalid syntax (<ipython-input-1-794074d74e58>, line 5)",
          "traceback": [
            "\u001b[0;36m  File \u001b[0;32m\"<ipython-input-1-794074d74e58>\"\u001b[0;36m, line \u001b[0;32m5\u001b[0m\n\u001b[0;31m    int x = 10;\u001b[0m\n\u001b[0m        ^\u001b[0m\n\u001b[0;31mSyntaxError\u001b[0m\u001b[0;31m:\u001b[0m invalid syntax\n"
          ]
        }
      ]
    },
    {
      "cell_type": "code",
      "source": [
        "x = 10\n",
        "x = 'hello'"
      ],
      "metadata": {
        "id": "1HUW4CbnxJnF"
      },
      "execution_count": null,
      "outputs": []
    },
    {
      "cell_type": "code",
      "source": [
        "ali = Person(\"Ali\", 24) #Correct\n",
        "ali = Person(\"Ali\", \"24\") #Mistake"
      ],
      "metadata": {
        "colab": {
          "base_uri": "https://localhost:8080/",
          "height": 158
        },
        "id": "Qwi5DMbDxPVW",
        "outputId": "6bf63c35-fd9c-4cf0-807e-9085840ab40c"
      },
      "execution_count": null,
      "outputs": [
        {
          "output_type": "error",
          "ename": "NameError",
          "evalue": "name 'Person' is not defined",
          "traceback": [
            "\u001b[0;31m---------------------------------------------------------------------------\u001b[0m",
            "\u001b[0;31mNameError\u001b[0m                                 Traceback (most recent call last)",
            "\u001b[0;32m<ipython-input-3-f8a6c93b08d8>\u001b[0m in \u001b[0;36m<cell line: 0>\u001b[0;34m()\u001b[0m\n\u001b[0;32m----> 1\u001b[0;31m \u001b[0mali\u001b[0m \u001b[0;34m=\u001b[0m \u001b[0mPerson\u001b[0m\u001b[0;34m(\u001b[0m\u001b[0;34m\"Ali\"\u001b[0m\u001b[0;34m,\u001b[0m \u001b[0;36m24\u001b[0m\u001b[0;34m)\u001b[0m \u001b[0;31m#Correct\u001b[0m\u001b[0;34m\u001b[0m\u001b[0;34m\u001b[0m\u001b[0m\n\u001b[0m\u001b[1;32m      2\u001b[0m \u001b[0mali\u001b[0m \u001b[0;34m=\u001b[0m \u001b[0mPerson\u001b[0m\u001b[0;34m(\u001b[0m\u001b[0;34m\"Ali\"\u001b[0m\u001b[0;34m,\u001b[0m \u001b[0;34m\"24\"\u001b[0m\u001b[0;34m)\u001b[0m \u001b[0;31m#Mistake\u001b[0m\u001b[0;34m\u001b[0m\u001b[0;34m\u001b[0m\u001b[0m\n",
            "\u001b[0;31mNameError\u001b[0m: name 'Person' is not defined"
          ]
        }
      ]
    },
    {
      "cell_type": "markdown",
      "source": [
        "The error message NameError: name 'Person' is not defined indicates that the Python interpreter encountered the name Person in the code but could not find a corresponding definition for it. This is because you haven't defined the class Person before calling it."
      ],
      "metadata": {
        "id": "FQSsN2nZLx2w"
      }
    },
    {
      "cell_type": "code",
      "source": [
        "from dataclasses import dataclass\n",
        "\n",
        "@dataclass\n",
        "class Person:\n",
        "    name: str\n",
        "    email: Union[str, None]\n",
        "    account_id: int"
      ],
      "metadata": {
        "colab": {
          "base_uri": "https://localhost:8080/",
          "height": 315
        },
        "id": "WMUKMFRZxiex",
        "outputId": "3d66cbd7-7995-49e7-fe41-ad758598b55d"
      },
      "execution_count": null,
      "outputs": [
        {
          "output_type": "error",
          "ename": "NameError",
          "evalue": "name 'Union' is not defined",
          "traceback": [
            "\u001b[0;31m---------------------------------------------------------------------------\u001b[0m",
            "\u001b[0;31mNameError\u001b[0m                                 Traceback (most recent call last)",
            "\u001b[0;32m<ipython-input-19-cc96ec067348>\u001b[0m in \u001b[0;36m<cell line: 0>\u001b[0;34m()\u001b[0m\n\u001b[1;32m      2\u001b[0m \u001b[0;34m\u001b[0m\u001b[0m\n\u001b[1;32m      3\u001b[0m \u001b[0;34m@\u001b[0m\u001b[0mdataclass\u001b[0m\u001b[0;34m\u001b[0m\u001b[0;34m\u001b[0m\u001b[0m\n\u001b[0;32m----> 4\u001b[0;31m \u001b[0;32mclass\u001b[0m \u001b[0mPerson\u001b[0m\u001b[0;34m:\u001b[0m\u001b[0;34m\u001b[0m\u001b[0;34m\u001b[0m\u001b[0m\n\u001b[0m\u001b[1;32m      5\u001b[0m     \u001b[0mname\u001b[0m\u001b[0;34m:\u001b[0m \u001b[0mstr\u001b[0m\u001b[0;34m\u001b[0m\u001b[0;34m\u001b[0m\u001b[0m\n\u001b[1;32m      6\u001b[0m     \u001b[0memail\u001b[0m\u001b[0;34m:\u001b[0m \u001b[0mUnion\u001b[0m\u001b[0;34m[\u001b[0m\u001b[0mstr\u001b[0m\u001b[0;34m,\u001b[0m \u001b[0;32mNone\u001b[0m\u001b[0;34m]\u001b[0m\u001b[0;34m\u001b[0m\u001b[0;34m\u001b[0m\u001b[0m\n",
            "\u001b[0;32m<ipython-input-19-cc96ec067348>\u001b[0m in \u001b[0;36mPerson\u001b[0;34m()\u001b[0m\n\u001b[1;32m      4\u001b[0m \u001b[0;32mclass\u001b[0m \u001b[0mPerson\u001b[0m\u001b[0;34m:\u001b[0m\u001b[0;34m\u001b[0m\u001b[0;34m\u001b[0m\u001b[0m\n\u001b[1;32m      5\u001b[0m     \u001b[0mname\u001b[0m\u001b[0;34m:\u001b[0m \u001b[0mstr\u001b[0m\u001b[0;34m\u001b[0m\u001b[0;34m\u001b[0m\u001b[0m\n\u001b[0;32m----> 6\u001b[0;31m     \u001b[0memail\u001b[0m\u001b[0;34m:\u001b[0m \u001b[0mUnion\u001b[0m\u001b[0;34m[\u001b[0m\u001b[0mstr\u001b[0m\u001b[0;34m,\u001b[0m \u001b[0;32mNone\u001b[0m\u001b[0;34m]\u001b[0m\u001b[0;34m\u001b[0m\u001b[0;34m\u001b[0m\u001b[0m\n\u001b[0m\u001b[1;32m      7\u001b[0m     \u001b[0maccount_id\u001b[0m\u001b[0;34m:\u001b[0m \u001b[0mint\u001b[0m\u001b[0;34m\u001b[0m\u001b[0;34m\u001b[0m\u001b[0m\n",
            "\u001b[0;31mNameError\u001b[0m: name 'Union' is not defined"
          ]
        }
      ]
    },
    {
      "cell_type": "markdown",
      "source": [
        "Import dataclass: The line from dataclasses import dataclass imports the necessary decorator from the dataclasses module, making it available for use in your code.\n",
        "Apply the decorator: @dataclass is then applied before the Person class definition as before."
      ],
      "metadata": {
        "id": "_0HuYOsVyfuV"
      }
    },
    {
      "cell_type": "code",
      "source": [
        "from dataclasses import dataclass\n",
        "from typing import Union # Import Union from typing module\n",
        "\n",
        "@dataclass\n",
        "class Person:\n",
        "    name: str\n",
        "    email: Union[str, None] # Now Union is defined and can be used\n",
        "    account_id: int"
      ],
      "metadata": {
        "id": "N7h20eyxPbmv"
      },
      "execution_count": null,
      "outputs": []
    },
    {
      "cell_type": "code",
      "source": [
        "pip install pydantic"
      ],
      "metadata": {
        "colab": {
          "base_uri": "https://localhost:8080/"
        },
        "id": "TH43qUIExwWe",
        "outputId": "949b76ab-1759-4804-d1d1-e1c37afac560"
      },
      "execution_count": 21,
      "outputs": [
        {
          "output_type": "stream",
          "name": "stdout",
          "text": [
            "Requirement already satisfied: pydantic in /usr/local/lib/python3.11/dist-packages (2.11.3)\n",
            "Requirement already satisfied: annotated-types>=0.6.0 in /usr/local/lib/python3.11/dist-packages (from pydantic) (0.7.0)\n",
            "Requirement already satisfied: pydantic-core==2.33.1 in /usr/local/lib/python3.11/dist-packages (from pydantic) (2.33.1)\n",
            "Requirement already satisfied: typing-extensions>=4.12.2 in /usr/local/lib/python3.11/dist-packages (from pydantic) (4.13.2)\n",
            "Requirement already satisfied: typing-inspection>=0.4.0 in /usr/local/lib/python3.11/dist-packages (from pydantic) (0.4.0)\n"
          ]
        }
      ]
    },
    {
      "cell_type": "markdown",
      "source": [
        "This line of code:\n",
        "\n",
        "pip install pydantic\n",
        "Use code with caution\n",
        "is using pip, which is the package installer for Python. Essentially, it's a tool that allows you to add external libraries to your Python environment.\n",
        "\n",
        "In this case, it's installing a library called \"Pydantic.\""
      ],
      "metadata": {
        "id": "kyqhEommx73W"
      }
    },
    {
      "cell_type": "code",
      "source": [
        "from pydantic import BaseModel\n",
        "\n",
        "class User(BaseModel):\n",
        "    name: str\n",
        "    email: str\n",
        "    account_id: int\n",
        "    name: str\n",
        "    email: str\n",
        "    account_id: int\n",
        "\n"
      ],
      "metadata": {
        "id": "R4lxN9QBzFnV"
      },
      "execution_count": null,
      "outputs": []
    },
    {
      "cell_type": "markdown",
      "source": [
        "In essence, this code defines a data model called User that represents a user with a name (string), an email (string), and an account ID (integer). Pydantic uses these type hints for data validation and parsing, ensuring that the data assigned to these fields conforms to the specified types.\n"
      ],
      "metadata": {
        "id": "l65aApqLzpF-"
      }
    },
    {
      "cell_type": "code",
      "source": [
        "user = User(\n",
        "    name = \"Salah\",\n",
        "    email = \"salah@gmail.com\",\n",
        "    account_id = 12345\n",
        ")"
      ],
      "metadata": {
        "id": "eR_ZTDUnzqjm"
      },
      "execution_count": null,
      "outputs": []
    },
    {
      "cell_type": "markdown",
      "source": [
        "create an instance of the model"
      ],
      "metadata": {
        "id": "ebrsgP3oMNyw"
      }
    },
    {
      "cell_type": "code",
      "source": [
        "user_data = {\n",
        "    'name': 'Salah',\n",
        "    'email': 'salah@gmail.com',\n",
        "    'account_id': 12345\n",
        "}\n",
        "\n",
        "user = User(**user_data)"
      ],
      "metadata": {
        "id": "aKyoHT77MIkh"
      },
      "execution_count": null,
      "outputs": []
    },
    {
      "cell_type": "markdown",
      "source": [
        "Another way to create an instance of the model by unpacking a dictionary"
      ],
      "metadata": {
        "id": "NTXumuJwMPWY"
      }
    },
    {
      "cell_type": "code",
      "source": [
        "print(user.name)    # Salah\n",
        "print(user.email)    # salah@gmail.com\n",
        "print(user.account_id)    # 12345"
      ],
      "metadata": {
        "colab": {
          "base_uri": "https://localhost:8080/"
        },
        "id": "Nh4hV4vrMRjw",
        "outputId": "b3598235-3632-442f-e37c-f6d575356d10"
      },
      "execution_count": null,
      "outputs": [
        {
          "output_type": "stream",
          "name": "stdout",
          "text": [
            "Salah\n",
            "salah@gmail.com\n",
            "12345\n"
          ]
        }
      ]
    },
    {
      "cell_type": "code",
      "source": [
        "from pydantic import BaseModel\n",
        "\n",
        "class User(BaseModel):\n",
        "    name: str\n",
        "    email: str\n",
        "    account_id: int\n",
        "\n",
        "# It will fail and show a validation error\n",
        "user = User(name = 'Ali', email = 'ali@gmailcom', account_id = 'hello')\n",
        "print(user)"
      ],
      "metadata": {
        "colab": {
          "base_uri": "https://localhost:8080/",
          "height": 384
        },
        "id": "KszxVMraMuIA",
        "outputId": "8269b6e0-6a37-4500-def3-9c4dd5b75089"
      },
      "execution_count": null,
      "outputs": [
        {
          "output_type": "error",
          "ename": "ValidationError",
          "evalue": "1 validation error for User\naccount_id\n  Input should be a valid integer, unable to parse string as an integer [type=int_parsing, input_value='hello', input_type=str]\n    For further information visit https://errors.pydantic.dev/2.11/v/int_parsing",
          "traceback": [
            "\u001b[0;31m---------------------------------------------------------------------------\u001b[0m",
            "\u001b[0;31mValidationError\u001b[0m                           Traceback (most recent call last)",
            "\u001b[0;32m<ipython-input-9-da8ca66f9eb7>\u001b[0m in \u001b[0;36m<cell line: 0>\u001b[0;34m()\u001b[0m\n\u001b[1;32m      7\u001b[0m \u001b[0;34m\u001b[0m\u001b[0m\n\u001b[1;32m      8\u001b[0m \u001b[0;31m# It will fail and show a validation error\u001b[0m\u001b[0;34m\u001b[0m\u001b[0;34m\u001b[0m\u001b[0m\n\u001b[0;32m----> 9\u001b[0;31m \u001b[0muser\u001b[0m \u001b[0;34m=\u001b[0m \u001b[0mUser\u001b[0m\u001b[0;34m(\u001b[0m\u001b[0mname\u001b[0m \u001b[0;34m=\u001b[0m \u001b[0;34m'Ali'\u001b[0m\u001b[0;34m,\u001b[0m \u001b[0memail\u001b[0m \u001b[0;34m=\u001b[0m \u001b[0;34m'ali@gmailcom'\u001b[0m\u001b[0;34m,\u001b[0m \u001b[0maccount_id\u001b[0m \u001b[0;34m=\u001b[0m \u001b[0;34m'hello'\u001b[0m\u001b[0;34m)\u001b[0m\u001b[0;34m\u001b[0m\u001b[0;34m\u001b[0m\u001b[0m\n\u001b[0m\u001b[1;32m     10\u001b[0m \u001b[0mprint\u001b[0m\u001b[0;34m(\u001b[0m\u001b[0muser\u001b[0m\u001b[0;34m)\u001b[0m\u001b[0;34m\u001b[0m\u001b[0;34m\u001b[0m\u001b[0m\n",
            "\u001b[0;32m/usr/local/lib/python3.11/dist-packages/pydantic/main.py\u001b[0m in \u001b[0;36m__init__\u001b[0;34m(self, **data)\u001b[0m\n\u001b[1;32m    251\u001b[0m         \u001b[0;31m# `__tracebackhide__` tells pytest and some other tools to omit this function from tracebacks\u001b[0m\u001b[0;34m\u001b[0m\u001b[0;34m\u001b[0m\u001b[0m\n\u001b[1;32m    252\u001b[0m         \u001b[0m__tracebackhide__\u001b[0m \u001b[0;34m=\u001b[0m \u001b[0;32mTrue\u001b[0m\u001b[0;34m\u001b[0m\u001b[0;34m\u001b[0m\u001b[0m\n\u001b[0;32m--> 253\u001b[0;31m         \u001b[0mvalidated_self\u001b[0m \u001b[0;34m=\u001b[0m \u001b[0mself\u001b[0m\u001b[0;34m.\u001b[0m\u001b[0m__pydantic_validator__\u001b[0m\u001b[0;34m.\u001b[0m\u001b[0mvalidate_python\u001b[0m\u001b[0;34m(\u001b[0m\u001b[0mdata\u001b[0m\u001b[0;34m,\u001b[0m \u001b[0mself_instance\u001b[0m\u001b[0;34m=\u001b[0m\u001b[0mself\u001b[0m\u001b[0;34m)\u001b[0m\u001b[0;34m\u001b[0m\u001b[0;34m\u001b[0m\u001b[0m\n\u001b[0m\u001b[1;32m    254\u001b[0m         \u001b[0;32mif\u001b[0m \u001b[0mself\u001b[0m \u001b[0;32mis\u001b[0m \u001b[0;32mnot\u001b[0m \u001b[0mvalidated_self\u001b[0m\u001b[0;34m:\u001b[0m\u001b[0;34m\u001b[0m\u001b[0;34m\u001b[0m\u001b[0m\n\u001b[1;32m    255\u001b[0m             warnings.warn(\n",
            "\u001b[0;31mValidationError\u001b[0m: 1 validation error for User\naccount_id\n  Input should be a valid integer, unable to parse string as an integer [type=int_parsing, input_value='hello', input_type=str]\n    For further information visit https://errors.pydantic.dev/2.11/v/int_parsing"
          ]
        }
      ]
    },
    {
      "cell_type": "markdown",
      "source": [
        "The error message ValidationError: 1 validation error for User ... type=int_parsing indicates that the value provided for the account_id field is not an integer and cannot be parsed as one by pydantic. Pydantic expects the account_id to be an integer, but the code provided the value 'hello', which is a string."
      ],
      "metadata": {
        "id": "BDm2OuKyNHgY"
      }
    },
    {
      "cell_type": "code",
      "source": [
        "from pydantic import BaseModel\n",
        "\n",
        "class User(BaseModel):\n",
        "    name: str\n",
        "    email: str\n",
        "    account_id: int\n",
        "\n",
        "# Provide an integer value for account_id\n",
        "user = User(name = 'Ali', email = 'ali@gmail.com', account_id = 123)  # Changed 'hello' to 123\n",
        "print(user)"
      ],
      "metadata": {
        "colab": {
          "base_uri": "https://localhost:8080/"
        },
        "id": "K0Nx1hC-NLt4",
        "outputId": "bce65018-bfe9-4168-83ae-75eddabf192b"
      },
      "execution_count": null,
      "outputs": [
        {
          "output_type": "stream",
          "name": "stdout",
          "text": [
            "name='Ali' email='ali@gmail.com' account_id=123\n"
          ]
        }
      ]
    },
    {
      "cell_type": "code",
      "source": [
        "@field_validator(\"account_id\")\n",
        "def validate_account_id(cls, value):\n",
        "    if value <= 0:\n",
        "        raise ValueError(f\"account_id must be positive: {value}\")\n",
        "    return value"
      ],
      "metadata": {
        "colab": {
          "base_uri": "https://localhost:8080/",
          "height": 211
        },
        "id": "e8-vCZB0NQAY",
        "outputId": "5db87be8-4e19-48c6-8d0c-31e703b53450"
      },
      "execution_count": null,
      "outputs": [
        {
          "output_type": "error",
          "ename": "NameError",
          "evalue": "name 'field_validator' is not defined",
          "traceback": [
            "\u001b[0;31m---------------------------------------------------------------------------\u001b[0m",
            "\u001b[0;31mNameError\u001b[0m                                 Traceback (most recent call last)",
            "\u001b[0;32m<ipython-input-11-3939543e0d5d>\u001b[0m in \u001b[0;36m<cell line: 0>\u001b[0;34m()\u001b[0m\n\u001b[0;32m----> 1\u001b[0;31m \u001b[0;34m@\u001b[0m\u001b[0mfield_validator\u001b[0m\u001b[0;34m(\u001b[0m\u001b[0;34m\"account_id\"\u001b[0m\u001b[0;34m)\u001b[0m\u001b[0;34m\u001b[0m\u001b[0;34m\u001b[0m\u001b[0m\n\u001b[0m\u001b[1;32m      2\u001b[0m \u001b[0;32mdef\u001b[0m \u001b[0mvalidate_account_id\u001b[0m\u001b[0;34m(\u001b[0m\u001b[0mcls\u001b[0m\u001b[0;34m,\u001b[0m \u001b[0mvalue\u001b[0m\u001b[0;34m)\u001b[0m\u001b[0;34m:\u001b[0m\u001b[0;34m\u001b[0m\u001b[0;34m\u001b[0m\u001b[0m\n\u001b[1;32m      3\u001b[0m     \u001b[0;32mif\u001b[0m \u001b[0mvalue\u001b[0m \u001b[0;34m<=\u001b[0m \u001b[0;36m0\u001b[0m\u001b[0;34m:\u001b[0m\u001b[0;34m\u001b[0m\u001b[0;34m\u001b[0m\u001b[0m\n\u001b[1;32m      4\u001b[0m         \u001b[0;32mraise\u001b[0m \u001b[0mValueError\u001b[0m\u001b[0;34m(\u001b[0m\u001b[0;34mf\"account_id must be positive: {value}\"\u001b[0m\u001b[0;34m)\u001b[0m\u001b[0;34m\u001b[0m\u001b[0;34m\u001b[0m\u001b[0m\n\u001b[1;32m      5\u001b[0m     \u001b[0;32mreturn\u001b[0m \u001b[0mvalue\u001b[0m\u001b[0;34m\u001b[0m\u001b[0;34m\u001b[0m\u001b[0m\n",
            "\u001b[0;31mNameError\u001b[0m: name 'field_validator' is not defined"
          ]
        }
      ]
    },
    {
      "cell_type": "markdown",
      "source": [
        "The error message NameError: name 'field_validator' is not defined indicates that the Python interpreter cannot find a definition for the name field_validator. This is happening because you're trying to use field_validator as a decorator without importing it from the pydantic library."
      ],
      "metadata": {
        "id": "W-Y2EMSJNVao"
      }
    },
    {
      "cell_type": "code",
      "source": [
        "from pydantic import BaseModel, validator\n",
        "\n",
        "class User(BaseModel):\n",
        "    name: str\n",
        "    email: str\n",
        "    account_id: int\n",
        "\n",
        "    @validator(\"account_id\", pre=True)\n",
        "    def validate_account_id(cls, value):\n",
        "        if value <= 0:\n",
        "            raise ValueError(f\"account_id must be positive: {value}\")\n",
        "        return value\n",
        "\n",
        "# Provide an integer value for account_id\n",
        "user = User(name = 'Ali', email = 'ali@gmail.com', account_id = 123)  # Changed 'hello' to 123\n",
        "print(user)"
      ],
      "metadata": {
        "colab": {
          "base_uri": "https://localhost:8080/"
        },
        "id": "JNz_ynnWNXdh",
        "outputId": "c28c2be6-5e3b-4ae3-cc0f-c9383c82aaa0"
      },
      "execution_count": null,
      "outputs": [
        {
          "output_type": "stream",
          "name": "stdout",
          "text": [
            "name='Ali' email='ali@gmail.com' account_id=123\n"
          ]
        },
        {
          "output_type": "stream",
          "name": "stderr",
          "text": [
            "<ipython-input-12-d4cefeb9154d>:8: PydanticDeprecatedSince20: Pydantic V1 style `@validator` validators are deprecated. You should migrate to Pydantic V2 style `@field_validator` validators, see the migration guide for more details. Deprecated in Pydantic V2.0 to be removed in V3.0. See Pydantic V2 Migration Guide at https://errors.pydantic.dev/2.11/migration/\n",
            "  @validator(\"account_id\", pre=True)\n"
          ]
        }
      ]
    },
    {
      "cell_type": "code",
      "source": [
        "user_json_str = user.model_dump_json()\n",
        "# this will return a JSON strinf representation of the model's data\n",
        "print(user_json_str)"
      ],
      "metadata": {
        "colab": {
          "base_uri": "https://localhost:8080/"
        },
        "id": "O4Rt1h8dNs8v",
        "outputId": "d921007e-3675-4be5-f273-9693acb81124"
      },
      "execution_count": null,
      "outputs": [
        {
          "output_type": "stream",
          "name": "stdout",
          "text": [
            "{\"name\":\"Ali\",\"email\":\"ali@gmail.com\",\"account_id\":123}\n"
          ]
        }
      ]
    },
    {
      "cell_type": "code",
      "source": [
        "user_json_obj = user.model_dump()"
      ],
      "metadata": {
        "id": "g42HQpIjNwdp"
      },
      "execution_count": null,
      "outputs": []
    },
    {
      "cell_type": "code",
      "source": [
        "json_str = '{\"name\": \"Ali\", \"email\": \"ali@gmail.com\", \"account_id\": 1234}'\n",
        "user = user.parse_raw(json_str)"
      ],
      "metadata": {
        "colab": {
          "base_uri": "https://localhost:8080/"
        },
        "id": "VNIb_dmQNzF3",
        "outputId": "d3336cfe-c055-4235-9f7d-779bb25879ef"
      },
      "execution_count": null,
      "outputs": [
        {
          "output_type": "stream",
          "name": "stderr",
          "text": [
            "<ipython-input-16-ec298368109b>:2: PydanticDeprecatedSince20: The `parse_raw` method is deprecated; if your data is JSON use `model_validate_json`, otherwise load the data then use `model_validate` instead. Deprecated in Pydantic V2.0 to be removed in V3.0. See Pydantic V2 Migration Guide at https://errors.pydantic.dev/2.11/migration/\n",
            "  user = user.parse_raw(json_str)\n"
          ]
        }
      ]
    },
    {
      "cell_type": "code",
      "source": [
        "# Python 3.6+\n",
        "x: int = 0\n",
        "y: str = \"hello\""
      ],
      "metadata": {
        "id": "4XnbitP5OIG3"
      },
      "execution_count": null,
      "outputs": []
    },
    {
      "cell_type": "code",
      "source": [
        "from dataclasses import dataclass\n",
        "\n",
        "@dataclass\n",
        "class User:\n",
        "    name: str\n",
        "    email: str\n",
        "    account_id: int"
      ],
      "metadata": {
        "id": "fDwrSd8aOK-4"
      },
      "execution_count": null,
      "outputs": []
    }
  ]
}